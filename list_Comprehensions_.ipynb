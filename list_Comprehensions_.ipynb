{
  "nbformat": 4,
  "nbformat_minor": 0,
  "metadata": {
    "colab": {
      "name": "list  Comprehensions .ipynb",
      "provenance": [],
      "authorship_tag": "ABX9TyPzaQd0k5pdVlq4eOa7cXnf",
      "include_colab_link": true
    },
    "kernelspec": {
      "name": "python3",
      "display_name": "Python 3"
    }
  },
  "cells": [
    {
      "cell_type": "markdown",
      "metadata": {
        "id": "view-in-github",
        "colab_type": "text"
      },
      "source": [
        "<a href=\"https://colab.research.google.com/github/Sharandeep02/python-basics/blob/master/list_Comprehensions_.ipynb\" target=\"_parent\"><img src=\"https://colab.research.google.com/assets/colab-badge.svg\" alt=\"Open In Colab\"/></a>"
      ]
    },
    {
      "cell_type": "code",
      "metadata": {
        "id": "7KebY1E5aNoa",
        "colab_type": "code",
        "colab": {
          "base_uri": "https://localhost:8080/",
          "height": 51
        },
        "outputId": "cce45d26-b4b4-4969-8fe6-ec9aebbab266"
      },
      "source": [
        "#list  Comprehensions makes us to code in much easier way \n",
        "l=[1,2,3,4,5]\n",
        "s=[]\n",
        "for i in l:\n",
        "  s.append(i)\n",
        "print(s)#normal way of appending list to another list\n",
        "\n",
        "\n",
        "#copying list from another list by using list  Comprehensions  \n",
        "d=[2,4]\n",
        "m=[i for i in d]\n",
        "print(m)"
      ],
      "execution_count": 16,
      "outputs": [
        {
          "output_type": "stream",
          "text": [
            "[1, 2, 3, 4, 5]\n",
            "[2, 4]\n"
          ],
          "name": "stdout"
        }
      ]
    },
    {
      "cell_type": "code",
      "metadata": {
        "id": "Sq5vAqfMejhx",
        "colab_type": "code",
        "colab": {
          "base_uri": "https://localhost:8080/",
          "height": 51
        },
        "outputId": "3066480a-2476-4541-ab94-766c845334e3"
      },
      "source": [
        "#printing the squares of numbers in the list by normal way\n",
        "k=[2,3,4]\n",
        "m=[]\n",
        "for i in k:\n",
        "  m.append(i*i)\n",
        "print(m)\n",
        "\n",
        "\n",
        "#printing the squares of list by using list comprehensions\n",
        "i=[5,6,7]\n",
        "j=[z*z for z in i]\n",
        "print(j)\n"
      ],
      "execution_count": 15,
      "outputs": [
        {
          "output_type": "stream",
          "text": [
            "[4, 9, 16]\n",
            "[25, 36, 49]\n"
          ],
          "name": "stdout"
        }
      ]
    },
    {
      "cell_type": "code",
      "metadata": {
        "id": "OR9Y8y3Rhfnn",
        "colab_type": "code",
        "colab": {
          "base_uri": "https://localhost:8080/",
          "height": 34
        },
        "outputId": "c051b4aa-1ab5-442c-992c-f2097f5d1762"
      },
      "source": [
        "#seperating even and odd in the list by using list comprehensions\n",
        "g=[54,82,93,59,30,62,71]\n",
        "my_list=[n for n in g if n%2 == 0 ]\n",
        "print(my_list)"
      ],
      "execution_count": 17,
      "outputs": [
        {
          "output_type": "stream",
          "text": [
            "[54, 82, 30, 62]\n"
          ],
          "name": "stdout"
        }
      ]
    },
    {
      "cell_type": "code",
      "metadata": {
        "id": "9iRF_SnFi_AR",
        "colab_type": "code",
        "colab": {
          "base_uri": "https://localhost:8080/",
          "height": 71
        },
        "outputId": "dbe665b5-049f-4025-9916-ef81c03275fb"
      },
      "source": [
        "nums=[1,2,3,4]\n",
        "#if u want to print letter,number pair for each number in nums and each letter in abcd\n",
        "#by using nested for loops\n",
        "my_list=[]\n",
        "for letter in 'abcd':\n",
        "  for num in nums:\n",
        "    my_list.append((letter,num))\n",
        "print(my_list)\n",
        "\n",
        "#doing the same by using the list comprehensions\n",
        "nums=[1,2,3,4]\n",
        "my_list=[(letter,num) for letter in 'abcd' for num in nums]\n",
        "print(my_list)"
      ],
      "execution_count": 23,
      "outputs": [
        {
          "output_type": "stream",
          "text": [
            "[('a', 1), ('a', 2), ('a', 3), ('a', 4), ('b', 1), ('b', 2), ('b', 3), ('b', 4), ('c', 1), ('c', 2), ('c', 3), ('c', 4), ('d', 1), ('d', 2), ('d', 3), ('d', 4)]\n",
            "[('a', 1), ('a', 2), ('a', 3), ('a', 4), ('b', 1), ('b', 2), ('b', 3), ('b', 4), ('c', 1), ('c', 2), ('c', 3), ('c', 4), ('d', 1), ('d', 2), ('d', 3), ('d', 4)]\n"
          ],
          "name": "stdout"
        }
      ]
    }
  ]
}