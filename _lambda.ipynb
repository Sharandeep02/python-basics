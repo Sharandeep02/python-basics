{
  "nbformat": 4,
  "nbformat_minor": 0,
  "metadata": {
    "colab": {
      "name": ".lambda.ipynb",
      "provenance": [],
      "mount_file_id": "1MzCfo9rvkrpXn7ztCNd3dFSA9rCCOVm6",
      "authorship_tag": "ABX9TyPiJcciTWSRrrA/w7JPW7JJ",
      "include_colab_link": true
    },
    "kernelspec": {
      "name": "python3",
      "display_name": "Python 3"
    }
  },
  "cells": [
    {
      "cell_type": "markdown",
      "metadata": {
        "id": "view-in-github",
        "colab_type": "text"
      },
      "source": [
        "<a href=\"https://colab.research.google.com/github/Sharandeep02/python-basics/blob/master/_lambda.ipynb\" target=\"_parent\"><img src=\"https://colab.research.google.com/assets/colab-badge.svg\" alt=\"Open In Colab\"/></a>"
      ]
    },
    {
      "cell_type": "code",
      "metadata": {
        "id": "3TxvxltmPXus",
        "colab_type": "code",
        "colab": {}
      },
      "source": [
        "s=lambda a:a%2==0"
      ],
      "execution_count": 1,
      "outputs": []
    },
    {
      "cell_type": "code",
      "metadata": {
        "id": "hKK9dWgGPdaL",
        "colab_type": "code",
        "colab": {
          "base_uri": "https://localhost:8080/",
          "height": 34
        },
        "outputId": "8661b962-3a22-4da4-ebff-7d99c14e51c9"
      },
      "source": [
        "s(5)"
      ],
      "execution_count": 2,
      "outputs": [
        {
          "output_type": "execute_result",
          "data": {
            "text/plain": [
              "False"
            ]
          },
          "metadata": {
            "tags": []
          },
          "execution_count": 2
        }
      ]
    },
    {
      "cell_type": "code",
      "metadata": {
        "id": "2U6Uk-VhPoLn",
        "colab_type": "code",
        "colab": {}
      },
      "source": [
        "#defing a function in normal way\n",
        "def add(a,b,c):\n",
        "  return a+b+c"
      ],
      "execution_count": 5,
      "outputs": []
    },
    {
      "cell_type": "code",
      "metadata": {
        "id": "UGTXdMk9P5kz",
        "colab_type": "code",
        "colab": {
          "base_uri": "https://localhost:8080/",
          "height": 34
        },
        "outputId": "07312483-7b97-41cf-b568-19b8ad3bf383"
      },
      "source": [
        "add(2,3,2)"
      ],
      "execution_count": 6,
      "outputs": [
        {
          "output_type": "execute_result",
          "data": {
            "text/plain": [
              "7"
            ]
          },
          "metadata": {
            "tags": []
          },
          "execution_count": 6
        }
      ]
    },
    {
      "cell_type": "code",
      "metadata": {
        "id": "q2Fhm0wnP9PN",
        "colab_type": "code",
        "colab": {}
      },
      "source": [
        "#defining a function by using lambda function\n",
        "s=lambda a,b,c:a+b+c"
      ],
      "execution_count": 7,
      "outputs": []
    },
    {
      "cell_type": "code",
      "metadata": {
        "id": "hLE_0SU_Qamx",
        "colab_type": "code",
        "colab": {
          "base_uri": "https://localhost:8080/",
          "height": 34
        },
        "outputId": "64d800eb-1e20-447a-83dc-4f041576c086"
      },
      "source": [
        "s(1,2,3)"
      ],
      "execution_count": 8,
      "outputs": [
        {
          "output_type": "execute_result",
          "data": {
            "text/plain": [
              "6"
            ]
          },
          "metadata": {
            "tags": []
          },
          "execution_count": 8
        }
      ]
    },
    {
      "cell_type": "code",
      "metadata": {
        "id": "zGW2N4OxQdUA",
        "colab_type": "code",
        "colab": {}
      },
      "source": [
        "76"
      ],
      "execution_count": null,
      "outputs": []
    }
  ]
}