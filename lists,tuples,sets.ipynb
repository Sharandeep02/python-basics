{
  "nbformat": 4,
  "nbformat_minor": 0,
  "metadata": {
    "colab": {
      "name": "lists,tuples,sets.ipynb",
      "provenance": [],
      "authorship_tag": "ABX9TyMEVTsC5JCmaSMEvDl6sltk",
      "include_colab_link": true
    },
    "kernelspec": {
      "name": "python3",
      "display_name": "Python 3"
    }
  },
  "cells": [
    {
      "cell_type": "markdown",
      "metadata": {
        "id": "view-in-github",
        "colab_type": "text"
      },
      "source": [
        "<a href=\"https://colab.research.google.com/github/Sharandeep02/python-basics/blob/master/lists%2Ctuples%2Csets.ipynb\" target=\"_parent\"><img src=\"https://colab.research.google.com/assets/colab-badge.svg\" alt=\"Open In Colab\"/></a>"
      ]
    },
    {
      "cell_type": "code",
      "metadata": {
        "id": "1ZVtzbEPSlHz",
        "colab_type": "code",
        "colab": {
          "base_uri": "https://localhost:8080/",
          "height": 136
        },
        "outputId": "04855c8c-f9a7-4412-b105-252fddadb500"
      },
      "source": [
        "courses=['MECH','CIVIL','EEE','ECE','CSE']\n",
        "print(courses)#to print the values of list\n",
        "print(len(courses))#to print the length of the list\n",
        "print(courses[0])#to access the element of a list with a specified index,the index value starts from 0\n",
        "print(courses[-1])#we can access the elements of the list with the negative index also,its stats from last with -1\n",
        "#slicing operations\n",
        "print(courses[0:3])#to access the elements the list to a particular range,the starting index is inclusive and the ending index is exclusive \n",
        "print(courses[:2])#if u are not specifying the starting index it defaultly starts from '0' \n",
        "print(courses[0:])#if u are specifiying the eding of the index it goes till the end of the list\n"
      ],
      "execution_count": 23,
      "outputs": [
        {
          "output_type": "stream",
          "text": [
            "['MECH', 'CIVIL', 'EEE', 'ECE', 'CSE']\n",
            "5\n",
            "MECH\n",
            "CSE\n",
            "['MECH', 'CIVIL', 'EEE']\n",
            "['MECH', 'CIVIL']\n",
            "['MECH', 'CIVIL', 'EEE', 'ECE', 'CSE']\n"
          ],
          "name": "stdout"
        }
      ]
    },
    {
      "cell_type": "code",
      "metadata": {
        "id": "679F7txKGnc8",
        "colab_type": "code",
        "colab": {
          "base_uri": "https://localhost:8080/",
          "height": 68
        },
        "outputId": "383d2e4c-46e3-4484-cf90-5071cf0393f7"
      },
      "source": [
        "#list opertaions to add the elements \n",
        "courses.append('CST')\n",
        "print(courses)\n",
        "courses.insert(0,'IT')\n",
        "print(courses)\n",
        "courses02=['ART','EDUCATION']\n",
        "courses.extend(courses02)\n",
        "print(courses)\n"
      ],
      "execution_count": 24,
      "outputs": [
        {
          "output_type": "stream",
          "text": [
            "['MECH', 'CIVIL', 'EEE', 'ECE', 'CSE', 'CST']\n",
            "['IT', 'MECH', 'CIVIL', 'EEE', 'ECE', 'CSE', 'CST']\n",
            "['IT', 'MECH', 'CIVIL', 'EEE', 'ECE', 'CSE', 'CST', 'ART', 'EDUCATION']\n"
          ],
          "name": "stdout"
        }
      ]
    },
    {
      "cell_type": "code",
      "metadata": {
        "id": "9YekhHoyIMUa",
        "colab_type": "code",
        "colab": {
          "base_uri": "https://localhost:8080/",
          "height": 68
        },
        "outputId": "013b2e45-b54e-4205-8e20-331eb41b9ab3"
      },
      "source": [
        "#list operations to remove the elements\n",
        "print(courses)\n",
        "courses.remove('IT')\n",
        "courses.pop()\n",
        "print(courses)\n",
        "popped=courses.pop()\n",
        "print(popped)\n"
      ],
      "execution_count": 31,
      "outputs": [
        {
          "output_type": "stream",
          "text": [
            "['IT', 'MECH', 'CIVIL', 'EEE', 'ECE']\n",
            "['MECH', 'CIVIL', 'EEE']\n",
            "EEE\n"
          ],
          "name": "stdout"
        }
      ]
    },
    {
      "cell_type": "code",
      "metadata": {
        "id": "25JbmjRGLlJV",
        "colab_type": "code",
        "colab": {
          "base_uri": "https://localhost:8080/",
          "height": 170
        },
        "outputId": "f06e486f-622e-473f-acbc-94d48b0ed0f5"
      },
      "source": [
        "\n",
        "names=['anu','roja','kishore','bhanu']\n",
        "names.sort()#to sort list in alphabetical order \n",
        "print(names)\n",
        "names.reverse()#to reverse the existing list\n",
        "print(names)\n",
        "print(names.index('anu'))#to find the index of a particular string in a list \n",
        "print('sharan' in names)#to check the given string is present in the list or not it returns true if present or false if not\n",
        "nums=[54,26,89,61,109]\n",
        "nums.sort()#it sorts the list in  ascending order\n",
        "print(nums)\n",
        "nums.sort(reverse=True)#it reverse the number list if we pass reverse as an argument to sort method\n",
        "print(nums)\n",
        "print(max(nums))#to print the maximum value of list\n",
        "print(min(nums))#to print the minminjum value of list\n",
        "print(sum(nums))#to print the sum of numbers present in the list\n"
      ],
      "execution_count": 41,
      "outputs": [
        {
          "output_type": "stream",
          "text": [
            "['anu', 'bhanu', 'kishore', 'roja']\n",
            "['roja', 'kishore', 'bhanu', 'anu']\n",
            "3\n",
            "False\n",
            "[26, 54, 61, 89, 109]\n",
            "[109, 89, 61, 54, 26]\n",
            "109\n",
            "26\n",
            "339\n"
          ],
          "name": "stdout"
        }
      ]
    },
    {
      "cell_type": "code",
      "metadata": {
        "id": "5KPAWavoQ2Y8",
        "colab_type": "code",
        "colab": {
          "base_uri": "https://localhost:8080/",
          "height": 255
        },
        "outputId": "4c08ca1d-03ae-48eb-9bc8-f85ee90b56fe"
      },
      "source": [
        "for i in nums:#to print all the values present in the list\n",
        "  print(i) \n",
        "for index,name in enumerate(names): #to print the values present the list with their indices\n",
        "  print(index,name)\n",
        "for index,name in enumerate(names,start=1) :#to print the values present the list with their a given specified index \n",
        "  print(index,name)"
      ],
      "execution_count": 45,
      "outputs": [
        {
          "output_type": "stream",
          "text": [
            "109\n",
            "89\n",
            "61\n",
            "54\n",
            "26\n",
            "0 roja\n",
            "1 kishore\n",
            "2 bhanu\n",
            "3 anu\n",
            "1 roja\n",
            "2 kishore\n",
            "3 bhanu\n",
            "4 anu\n",
            "ERROR! Session/line number was not unique in database. History logging moved to new session 62\n"
          ],
          "name": "stdout"
        }
      ]
    },
    {
      "cell_type": "code",
      "metadata": {
        "id": "TeK8AHp3RbPc",
        "colab_type": "code",
        "colab": {}
      },
      "source": [
        ""
      ],
      "execution_count": 0,
      "outputs": []
    }
  ]
}