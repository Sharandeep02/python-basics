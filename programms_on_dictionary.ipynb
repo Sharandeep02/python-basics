{
  "nbformat": 4,
  "nbformat_minor": 0,
  "metadata": {
    "colab": {
      "name": "programms on dictionary.ipynb",
      "provenance": [],
      "authorship_tag": "ABX9TyMWyr/3M9ODHEvsAljiZUEf",
      "include_colab_link": true
    },
    "kernelspec": {
      "name": "python3",
      "display_name": "Python 3"
    }
  },
  "cells": [
    {
      "cell_type": "markdown",
      "metadata": {
        "id": "view-in-github",
        "colab_type": "text"
      },
      "source": [
        "<a href=\"https://colab.research.google.com/github/Sharandeep02/python-basics/blob/master/programms_on_dictionary.ipynb\" target=\"_parent\"><img src=\"https://colab.research.google.com/assets/colab-badge.svg\" alt=\"Open In Colab\"/></a>"
      ]
    },
    {
      "cell_type": "code",
      "metadata": {
        "id": "yUQPZtYIpN7t",
        "colab_type": "code",
        "outputId": "93d0a982-7ffb-494b-f401-45e6c4891739",
        "colab": {
          "base_uri": "https://localhost:8080/",
          "height": 34
        }
      },
      "source": [
        "#converting a tuple into dictionary\n",
        "t=((2,\"w\"),(3,\"r\"))\n",
        "d=dict(t)\n",
        "print(d)"
      ],
      "execution_count": 0,
      "outputs": [
        {
          "output_type": "stream",
          "text": [
            "{2: 'w', 3: 'r'}\n"
          ],
          "name": "stdout"
        }
      ]
    },
    {
      "cell_type": "code",
      "metadata": {
        "id": "T3s-PjBTrEY8",
        "colab_type": "code",
        "outputId": "fe7d7333-37cd-48f1-a43d-c61674a2391a",
        "colab": {
          "base_uri": "https://localhost:8080/",
          "height": 68
        }
      },
      "source": [
        "#program to check whether all the dicts in list are empyty or not  \n",
        "s=[{},{6,8},{}]\n",
        "for i in s:                 #iterating through dictionary through their keys\n",
        "  if i=={}:\n",
        "    print(\"True\")\n",
        "  else:\n",
        "    print(\"False\")"
      ],
      "execution_count": 0,
      "outputs": [
        {
          "output_type": "stream",
          "text": [
            "True\n",
            "False\n",
            "True\n"
          ],
          "name": "stdout"
        }
      ]
    },
    {
      "cell_type": "code",
      "metadata": {
        "id": "pd8keBH-xZzR",
        "colab_type": "code",
        "outputId": "023d3e19-65b0-42ee-9414-d3e1b9e1f5d9",
        "colab": {
          "base_uri": "https://localhost:8080/",
          "height": 51
        }
      },
      "source": [
        "#printing the sum of dict values\n",
        "data={1:100,2:-54,3:247}\n",
        "l=[]\n",
        "for d in data.values():\n",
        "  l.append(d)\n",
        "print(l)\n",
        "sum=0\n",
        "for i in range(len(l)):\n",
        "  sum=sum+l[i]\n",
        "print(sum)\n"
      ],
      "execution_count": 0,
      "outputs": [
        {
          "output_type": "stream",
          "text": [
            "[100, -54, 247]\n",
            "293\n"
          ],
          "name": "stdout"
        }
      ]
    },
    {
      "cell_type": "code",
      "metadata": {
        "id": "NRSxneTmQATg",
        "colab_type": "code",
        "outputId": "8704877c-7a6a-4963-b832-268f3cc6243b",
        "colab": {
          "base_uri": "https://localhost:8080/",
          "height": 51
        }
      },
      "source": [
        "#program to print max and min value in  dictionary\n",
        "s={'x':100,'y':5874,'z':560}\n",
        "l=[]\n",
        "for i in s.values():\n",
        "  l.append(i)\n",
        "print('maximum value:',max(l))\n",
        "print(\"minimum value:\",min(l))\n",
        "\n",
        "  "
      ],
      "execution_count": 0,
      "outputs": [
        {
          "output_type": "stream",
          "text": [
            "maximum value: 5874\n",
            "minimum value: 100\n"
          ],
          "name": "stdout"
        }
      ]
    },
    {
      "cell_type": "code",
      "metadata": {
        "id": "mH63T7M-S1eh",
        "colab_type": "code",
        "outputId": "79d34d5a-abdb-4030-9386-47160ec426bf",
        "colab": {
          "base_uri": "https://localhost:8080/",
          "height": 34
        }
      },
      "source": [
        "#program to convert a tuple to dictionary\n",
        " d=[(\"x\", 1), (\"x\", 2), (\"x\", 3), (\"y\", 1), (\"y\", 2), (\"z\", 1)]\n",
        " s={}\n",
        " for a, b in d:\n",
        "   s.setdefault(a, []).append(b)\n",
        "print(d)"
      ],
      "execution_count": 38,
      "outputs": [
        {
          "output_type": "stream",
          "text": [
            "[('x', 1), ('x', 2), ('x', 3), ('y', 1), ('y', 2), ('z', 1)]\n"
          ],
          "name": "stdout"
        }
      ]
    },
    {
      "cell_type": "code",
      "metadata": {
        "id": "L7MrzY4zSpKt",
        "colab_type": "code",
        "colab": {}
      },
      "source": [
        ""
      ],
      "execution_count": 0,
      "outputs": []
    },
    {
      "cell_type": "code",
      "metadata": {
        "id": "eaOIslRMt0xH",
        "colab_type": "code",
        "colab": {}
      },
      "source": [
        ""
      ],
      "execution_count": 0,
      "outputs": []
    }
  ]
}