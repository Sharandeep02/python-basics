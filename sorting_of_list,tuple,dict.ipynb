{
  "nbformat": 4,
  "nbformat_minor": 0,
  "metadata": {
    "colab": {
      "name": "sorting of list,tuple,dict.ipynb",
      "provenance": [],
      "authorship_tag": "ABX9TyNHwnVVQtRiapwY0rMg4Q+T",
      "include_colab_link": true
    },
    "kernelspec": {
      "name": "python3",
      "display_name": "Python 3"
    }
  },
  "cells": [
    {
      "cell_type": "markdown",
      "metadata": {
        "id": "view-in-github",
        "colab_type": "text"
      },
      "source": [
        "<a href=\"https://colab.research.google.com/github/Sharandeep02/python-basics/blob/master/sorting_of_list%2Ctuple%2Cdict.ipynb\" target=\"_parent\"><img src=\"https://colab.research.google.com/assets/colab-badge.svg\" alt=\"Open In Colab\"/></a>"
      ]
    },
    {
      "cell_type": "code",
      "metadata": {
        "id": "fAuCPheYpMaF",
        "colab_type": "code",
        "outputId": "12af6cb8-3462-46a9-d765-c037f8c2ab95",
        "colab": {
          "base_uri": "https://localhost:8080/",
          "height": 102
        }
      },
      "source": [
        "#sorting of list \n",
        "l1=[5,6,4,2,9,8,1,3,7]\n",
        "s_l1=sorted(l1)\n",
        "print(\"sorted list:\\t\",s_l1)\n",
        "print(\"original list:\\t\",l1)\n",
        "#we can use in built for sorting a list\n",
        "l1.sort()\n",
        "print(\"sorted by using inbuilt function:\\t\",l1)\n",
        "#one difference between the sorting explictily is when we do it explictly is return a new list\n",
        "#but when we do it by using inbuilt function it will sort in the same list itself\n",
        "\n",
        "\n",
        "#to sort in desecnding order\n",
        "s_l1=sorted(l1,reverse=True)\n",
        "print(\"sorted in desecnding order :\\t\",s_l1)\n",
        "#we can sort in desecnding order by sort method\n",
        "l1.sort(reverse=True)\n",
        "print(\"sorted by using inbuit function:\\t\",l1)"
      ],
      "execution_count": 0,
      "outputs": [
        {
          "output_type": "stream",
          "text": [
            "sorted list:\t [1, 2, 3, 4, 5, 6, 7, 8, 9]\n",
            "original list:\t [5, 6, 4, 2, 9, 8, 1, 3, 7]\n",
            "sorted by using inbuilt function:\t [1, 2, 3, 4, 5, 6, 7, 8, 9]\n",
            "sorted in desecnding order :\t [9, 8, 7, 6, 5, 4, 3, 2, 1]\n",
            "sorted by using inbuit function:\t [9, 8, 7, 6, 5, 4, 3, 2, 1]\n"
          ],
          "name": "stdout"
        }
      ]
    },
    {
      "cell_type": "code",
      "metadata": {
        "id": "6e4LK68W1-qu",
        "colab_type": "code",
        "outputId": "4ee4e161-3180-425a-ca7c-69ad25f67685",
        "colab": {
          "base_uri": "https://localhost:8080/",
          "height": 34
        }
      },
      "source": [
        "#tuple doesnt have sort method, if we try to sort by using the method it will throw error\n",
        "tup=(5,4,8,2,1,3,6,9,7)\n",
        "tup1=sorted(tup)\n",
        "print(tup1)\n"
      ],
      "execution_count": 0,
      "outputs": [
        {
          "output_type": "stream",
          "text": [
            "[1, 2, 3, 4, 5, 6, 7, 8, 9]\n"
          ],
          "name": "stdout"
        }
      ]
    },
    {
      "cell_type": "code",
      "metadata": {
        "id": "YCyVLrva2rv0",
        "colab_type": "code",
        "outputId": "e9ffb3ec-2fe5-4e54-e539-e0498467f654",
        "colab": {
          "base_uri": "https://localhost:8080/",
          "height": 34
        }
      },
      "source": [
        "#sorting a dictionary\n",
        "di={'name':'sharan','age':'20','profession':'student'}\n",
        "d=sorted(di)#it defaultly sort the dictionary by keys\n",
        "print(d)"
      ],
      "execution_count": 1,
      "outputs": [
        {
          "output_type": "stream",
          "text": [
            "['age', 'name', 'profession']\n"
          ],
          "name": "stdout"
        }
      ]
    },
    {
      "cell_type": "code",
      "metadata": {
        "id": "KDt5OOnqHbyN",
        "colab_type": "code",
        "colab": {
          "base_uri": "https://localhost:8080/",
          "height": 51
        },
        "outputId": "70cfd2c7-4e75-482b-ff0c-ca5ec9acc26e"
      },
      "source": [
        "#if we neagative values in the list it sorts accordingly by negative first\n",
        "#example\n",
        "s=[1,2,3,-6,-5,-4]\n",
        "d=sorted(s)\n",
        "print(d)\n",
        "#but if we want to sort by number with out any difference to symbol we use a key parameter\n",
        "s=[1,2,3,-6,-5,-4]\n",
        "d=sorted(s,key=abs)#abs=absolute value function is extremly use when sorting objects with named attribute  \n",
        "print(d)"
      ],
      "execution_count": 5,
      "outputs": [
        {
          "output_type": "stream",
          "text": [
            "[-6, -5, -4, 1, 2, 3]\n",
            "[1, 2, 3, -4, -5, -6]\n"
          ],
          "name": "stdout"
        }
      ]
    },
    {
      "cell_type": "code",
      "metadata": {
        "id": "LlGYnlqxN8Ip",
        "colab_type": "code",
        "colab": {
          "base_uri": "https://localhost:8080/",
          "height": 34
        },
        "outputId": "1cdde939-bda2-4d12-dc3e-58d00405d26c"
      },
      "source": [
        "class employee():\n",
        "  def __init__(self,name,age,salary):\n",
        "    self.name=name\n",
        "    self.age=age\n",
        "    self.salary=salary\n",
        "  def __repr__(self):\n",
        "    return'({},{},${})'.format(self.name,self.age,self.salary)\n",
        "     \n",
        "e1=employee('sharan',30,40000)\n",
        "e2=employee('tharun',25,35000)\n",
        "e3=employee('varun',25,30000)\n",
        "employees=[e1,e2,e3]\n",
        "#to sort the employes by name by using sort method it will throw an errror\n",
        "#so we use a key parameter to sort this\n",
        "def e_sort(emp):\n",
        "  return emp.name\n",
        "s_employee=sorted(employees,key=e_sort)\n",
        "print(s_employee)\n",
        "#we can even sort by the ages,salaries by passing the different parameters"
      ],
      "execution_count": 11,
      "outputs": [
        {
          "output_type": "stream",
          "text": [
            "[(sharan,30,$40000), (tharun,25,$35000), (varun,25,$30000)]\n"
          ],
          "name": "stdout"
        }
      ]
    },
    {
      "cell_type": "code",
      "metadata": {
        "id": "f3shBHsj1Qee",
        "colab_type": "code",
        "colab": {}
      },
      "source": [
        ""
      ],
      "execution_count": 0,
      "outputs": []
    }
  ]
}