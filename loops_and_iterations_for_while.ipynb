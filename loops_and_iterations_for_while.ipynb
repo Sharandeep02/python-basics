{
  "nbformat": 4,
  "nbformat_minor": 0,
  "metadata": {
    "colab": {
      "name": "loops and iterations.for/while.ipynb",
      "provenance": [],
      "authorship_tag": "ABX9TyMLCh5UIGCpODIr9i/k2Gqf",
      "include_colab_link": true
    },
    "kernelspec": {
      "name": "python3",
      "display_name": "Python 3"
    }
  },
  "cells": [
    {
      "cell_type": "markdown",
      "metadata": {
        "id": "view-in-github",
        "colab_type": "text"
      },
      "source": [
        "<a href=\"https://colab.research.google.com/github/Sharandeep02/python-basics/blob/master/loops_and_iterations_for_while.ipynb\" target=\"_parent\"><img src=\"https://colab.research.google.com/assets/colab-badge.svg\" alt=\"Open In Colab\"/></a>"
      ]
    },
    {
      "cell_type": "code",
      "metadata": {
        "id": "xAyfvYdLreIq",
        "colab_type": "code",
        "colab": {
          "base_uri": "https://localhost:8080/",
          "height": 153
        },
        "outputId": "0133f69a-0d47-4520-c240-da2133f13977"
      },
      "source": [
        "#difference between the break and the continue\n",
        "#example1\n",
        "nums=[1,2,3,4,5]\n",
        "for num in nums:\n",
        "  if num == 3:\n",
        "    print('found!')\n",
        "    break\n",
        "  print(num)\n",
        "#example2\n",
        "nums=[1,2,3,4,5]\n",
        "for num in nums:\n",
        "  if num == 3:\n",
        "    print('found!')\n",
        "    continue\n",
        "  print(num)"
      ],
      "execution_count": 8,
      "outputs": [
        {
          "output_type": "stream",
          "text": [
            "1\n",
            "2\n",
            "found!\n",
            "1\n",
            "2\n",
            "found!\n",
            "4\n",
            "5\n"
          ],
          "name": "stdout"
        }
      ]
    },
    {
      "cell_type": "code",
      "metadata": {
        "id": "waDL2nCTtVub",
        "colab_type": "code",
        "colab": {
          "base_uri": "https://localhost:8080/",
          "height": 442
        },
        "outputId": "a8beb2a4-efde-4d25-e530-38ccd61c9bce"
      },
      "source": [
        "#looping through nested loops\n",
        "nums=[1,2,3,4,5,]\n",
        "\n",
        "for num in nums:\n",
        "  for letter in 'abc':\n",
        "    print(num,letter)\n",
        "\n",
        "#looping through a loop upto certain range\n",
        "for i in range(5):\n",
        "  print(i)\n",
        "#by defaultly the loop index starts from 0\n",
        "#if u want to start from specified index\n",
        "for i in range(1,6):\n",
        "  print(i)\n"
      ],
      "execution_count": 11,
      "outputs": [
        {
          "output_type": "stream",
          "text": [
            "1 a\n",
            "1 b\n",
            "1 c\n",
            "2 a\n",
            "2 b\n",
            "2 c\n",
            "3 a\n",
            "3 b\n",
            "3 c\n",
            "4 a\n",
            "4 b\n",
            "4 c\n",
            "5 a\n",
            "5 b\n",
            "5 c\n",
            "0\n",
            "1\n",
            "2\n",
            "3\n",
            "4\n",
            "1\n",
            "2\n",
            "3\n",
            "4\n",
            "5\n"
          ],
          "name": "stdout"
        }
      ]
    },
    {
      "cell_type": "code",
      "metadata": {
        "id": "-P5m5xTi5na2",
        "colab_type": "code",
        "colab": {
          "base_uri": "https://localhost:8080/",
          "height": 119
        },
        "outputId": "0b0e4878-ea10-43ad-a7b0-a0d3af6c5d92"
      },
      "source": [
        "#looping through while loop\n",
        "j=0\n",
        "while j<=10:\n",
        "  print(j)\n",
        "  j+=2"
      ],
      "execution_count": 14,
      "outputs": [
        {
          "output_type": "stream",
          "text": [
            "0\n",
            "2\n",
            "4\n",
            "6\n",
            "8\n",
            "10\n"
          ],
          "name": "stdout"
        }
      ]
    },
    {
      "cell_type": "code",
      "metadata": {
        "id": "CILTJhGE2QaQ",
        "colab_type": "code",
        "colab": {}
      },
      "source": [
        "()"
      ],
      "execution_count": 0,
      "outputs": []
    }
  ]
}