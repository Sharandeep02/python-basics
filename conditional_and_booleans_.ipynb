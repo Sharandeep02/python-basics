{
  "nbformat": 4,
  "nbformat_minor": 0,
  "metadata": {
    "colab": {
      "name": "conditional and booleans .ipynb",
      "provenance": [],
      "authorship_tag": "ABX9TyN9kiASrsz8AIEuErytnE38",
      "include_colab_link": true
    },
    "kernelspec": {
      "name": "python3",
      "display_name": "Python 3"
    }
  },
  "cells": [
    {
      "cell_type": "markdown",
      "metadata": {
        "id": "view-in-github",
        "colab_type": "text"
      },
      "source": [
        "<a href=\"https://colab.research.google.com/github/Sharandeep02/python-basics/blob/master/conditional_and_booleans_.ipynb\" target=\"_parent\"><img src=\"https://colab.research.google.com/assets/colab-badge.svg\" alt=\"Open In Colab\"/></a>"
      ]
    },
    {
      "cell_type": "code",
      "metadata": {
        "id": "mp17CdluJ7cu",
        "colab_type": "code",
        "colab": {
          "base_uri": "https://localhost:8080/",
          "height": 102
        },
        "outputId": "06b5046f-85e7-45aa-c41d-ab63b16ce5b5"
      },
      "source": [
        "#comparisons\n",
        "#equal: '=='\n",
        "#notequal: '!='\n",
        "#greaterthan: '>'\n",
        "#lessthan: '<'\n",
        "#lessthan or equal: '<='\n",
        "#greater than or equal: '>='\n",
        "#object identity 'is'#this is for comparing the addresses of the data\n",
        "#and,or,not\n",
        "\n",
        "\n",
        "\n",
        "#values that evaluates to zero\n",
        "#none\n",
        "#False\n",
        "#zero of any numeric type\n",
        "#any empty sequence for example '',[],{}\n",
        "#any empty mapping for example,{}\n",
        "\n",
        "\n",
        "#examples for conditional statements\n",
        "language='python'\n",
        "if language == 'python':\n",
        "  print('language is python')\n",
        "elif language == 'java':\n",
        "  print('language is java')\n",
        "else:\n",
        "  print('no match')\n",
        "\n",
        "#example2\n",
        "admin = 'sharan'\n",
        "logged_in = True\n",
        "if admin == 'sharan' and logged_in:\n",
        "  print(\"sharan's page\")\n",
        "else:\n",
        "  print('bad request')\n",
        "\n",
        "#example3\n",
        "admin = 'sharan'\n",
        "logged_in = False\n",
        "if admin == 'sharan' and logged_in:\n",
        "  print(\"sharan's page\")\n",
        "else:\n",
        "  print('bad request')\n",
        "  #example4\n",
        "admin = 'sharan'\n",
        "logged_in = False\n",
        "if admin == 'sharan' or logged_in:\n",
        "  print(\"sharan's page\")\n",
        "else:\n",
        "  print('bad request')\n",
        "#example5\n",
        "admin = 'sharan'\n",
        "logged_in = False\n",
        "if not logged_in:\n",
        "  print(\"please login\")\n",
        "else:\n",
        "  print(\"welcome\")"
      ],
      "execution_count": 9,
      "outputs": [
        {
          "output_type": "stream",
          "text": [
            "language is python\n",
            "sharan's page\n",
            "bad request\n",
            "sharan's page\n",
            "please login\n"
          ],
          "name": "stdout"
        }
      ]
    },
    {
      "cell_type": "code",
      "metadata": {
        "id": "HgIbt9CWhO17",
        "colab_type": "code",
        "colab": {
          "base_uri": "https://localhost:8080/",
          "height": 119
        },
        "outputId": "c6e77256-c3d1-4069-febf-9d8b90f5070b"
      },
      "source": [
        "#example1\n",
        "list_1=[2,3,4]\n",
        "list_2=[2,3,4]\n",
        "print(id(list_1))\n",
        "print(id(list_2))\n",
        "print(list_1 is list_2)\n",
        "\n",
        "#example2\n",
        "list_1=[2,3,4]\n",
        "list_2=list_1\n",
        "print(id(list_1))\n",
        "print(id(list_2))\n",
        "print(list_1 is list_2)"
      ],
      "execution_count": 12,
      "outputs": [
        {
          "output_type": "stream",
          "text": [
            "140527692771592\n",
            "140527692777352\n",
            "False\n",
            "140527692776712\n",
            "140527692776712\n",
            "True\n"
          ],
          "name": "stdout"
        }
      ]
    },
    {
      "cell_type": "code",
      "metadata": {
        "id": "hPPUjqsclV9a",
        "colab_type": "code",
        "colab": {}
      },
      "source": [
        "#boolean\n",
        "#by defaultly everything is evaluated to true"
      ],
      "execution_count": 0,
      "outputs": []
    }
  ]
}