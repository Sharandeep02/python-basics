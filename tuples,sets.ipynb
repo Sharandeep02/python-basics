{
  "nbformat": 4,
  "nbformat_minor": 0,
  "metadata": {
    "colab": {
      "name": "tuples,sets.ipynb",
      "provenance": [],
      "authorship_tag": "ABX9TyOKQo3zvql12rMudTJ7Twfd",
      "include_colab_link": true
    },
    "kernelspec": {
      "name": "python3",
      "display_name": "Python 3"
    }
  },
  "cells": [
    {
      "cell_type": "markdown",
      "metadata": {
        "id": "view-in-github",
        "colab_type": "text"
      },
      "source": [
        "<a href=\"https://colab.research.google.com/github/Sharandeep02/python-basics/blob/master/tuples%2Csets.ipynb\" target=\"_parent\"><img src=\"https://colab.research.google.com/assets/colab-badge.svg\" alt=\"Open In Colab\"/></a>"
      ]
    },
    {
      "cell_type": "code",
      "metadata": {
        "id": "iZioo8RkcGe-",
        "colab_type": "code",
        "outputId": "cec63cf2-f134-49d0-9b0b-959c76f87471",
        "colab": {
          "base_uri": "https://localhost:8080/",
          "height": 51
        }
      },
      "source": [
        "#Tuples are same as list but the main difference is tuples are immutable where as list are mutable\n",
        "#As tuples are immutable they dont have many methods as list but we can access and loop through the elements same as list\n",
        "#we cant sort the tuples as they are immutable.\n",
        "tuple_1=('BTech','MTech','MBA','MCA')\n",
        "tuple_2=tuple_1\n",
        "print(tuple_1)\n",
        "print(tuple_2)"
      ],
      "execution_count": 0,
      "outputs": [
        {
          "output_type": "stream",
          "text": [
            "('BTech', 'MTech', 'MBA', 'MCA')\n",
            "('BTech', 'MTech', 'MBA', 'MCA')\n"
          ],
          "name": "stdout"
        }
      ]
    },
    {
      "cell_type": "code",
      "metadata": {
        "id": "ZaTjn5N3koSQ",
        "colab_type": "code",
        "outputId": "61e61684-16f9-4833-af11-7c4ba21fcc13",
        "colab": {
          "base_uri": "https://localhost:8080/",
          "height": 102
        }
      },
      "source": [
        "#sets are =same as list and tuples but we use curly bracecs for sets\n",
        "#The main difference between the list and sets are they return the values with out following any order evrey time we run\n",
        "set_1={'bhavana','joshna','harsha','sharan'}\n",
        "set_2={'tharun','sharan','varun','sravan','harsha'} \n",
        "print(set_1)\n",
        "print(set_2)#printing the sets\n",
        "print(set_1.intersection(set_2))#to print the common elements presnt  in the two sets\n",
        "print(set_1.difference(set_2))#to print the odd elements in the to sets \n",
        "print(set_1.union(set_1))#to print the two sets into one set with out any common elemments"
      ],
      "execution_count": 5,
      "outputs": [
        {
          "output_type": "stream",
          "text": [
            "{'joshna', 'bhavana', 'sharan', 'harsha'}\n",
            "{'tharun', 'sharan', 'sravan', 'varun', 'harsha'}\n",
            "{'sharan', 'harsha'}\n",
            "{'joshna', 'bhavana'}\n",
            "{'joshna', 'bhavana', 'sharan', 'harsha'}\n"
          ],
          "name": "stdout"
        }
      ]
    },
    {
      "cell_type": "code",
      "metadata": {
        "id": "G-uH4T0V11-M",
        "colab_type": "code",
        "colab": {}
      },
      "source": [
        "#we can create empty list , tuples in two ways by using the respective parenthesis or by using the respective classes\n",
        "#To create empty list \n",
        "#empty_list=[],1st way to create empty list by using [] parenthesis\n",
        "#empty_list=list(),2nd way by using the list class\n",
        "#empty_tuple=() \n",
        "#empty_tuple=tuple()\n",
        "# we cant use parenthesis to create sets ,we can create sets only by using the set class \n",
        "#empty_set=set()"
      ],
      "execution_count": 0,
      "outputs": []
    },
    {
      "cell_type": "code",
      "metadata": {
        "id": "5np3ziE00VYw",
        "colab_type": "code",
        "colab": {}
      },
      "source": [
        ""
      ],
      "execution_count": 0,
      "outputs": []
    },
    {
      "cell_type": "code",
      "metadata": {
        "id": "2OjCzaKWz-_0",
        "colab_type": "code",
        "colab": {}
      },
      "source": [
        ""
      ],
      "execution_count": 0,
      "outputs": []
    }
  ]
}