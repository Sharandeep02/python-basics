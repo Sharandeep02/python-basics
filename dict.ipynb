{
  "nbformat": 4,
  "nbformat_minor": 0,
  "metadata": {
    "colab": {
      "name": "dict.ipynb",
      "provenance": [],
      "authorship_tag": "ABX9TyPxIEN5uyYt6zIwMBuU8eqR",
      "include_colab_link": true
    },
    "kernelspec": {
      "name": "python3",
      "display_name": "Python 3"
    }
  },
  "cells": [
    {
      "cell_type": "markdown",
      "metadata": {
        "id": "view-in-github",
        "colab_type": "text"
      },
      "source": [
        "<a href=\"https://colab.research.google.com/github/Sharandeep02/python-basics/blob/master/dict.ipynb\" target=\"_parent\"><img src=\"https://colab.research.google.com/assets/colab-badge.svg\" alt=\"Open In Colab\"/></a>"
      ]
    },
    {
      "cell_type": "code",
      "metadata": {
        "id": "RnmXknbR4LdG",
        "colab_type": "code",
        "colab": {
          "base_uri": "https://localhost:8080/",
          "height": 153
        },
        "outputId": "a1018dc3-fd63-4b86-a514-db0f5bca5b97"
      },
      "source": [
        "#dictionaries\n",
        "student={'name':'john','age':20,'courses':['math','compsci']}\n",
        "print(student)\n",
        "print(student['name'])\n",
        "#we can also get the value of key by using the get method\n",
        "print(student.get('name'))#to get all the items present in  the dictionary\n",
        "student['phone']='9550'#to add a new key,value into dictionary\n",
        "print(student)\n",
        "student['name']='jane'#if we are using the same key name that is already present in the dictionary it will override the previous value\n",
        "print(student)\n",
        "student.update({'name':'ram','age':25})#we have update method to update the multiples keys and values\n",
        "print(student)\n",
        "del student['phone']#we del keyword to delete the specified the key valuse pair\n",
        "print(student)\n",
        "s=student.pop('courses')#we have pop method and it will return the key and the value to a new varaible\n",
        "print(s)"
      ],
      "execution_count": 14,
      "outputs": [
        {
          "output_type": "stream",
          "text": [
            "{'name': 'john', 'age': 20, 'courses': ['math', 'compsci']}\n",
            "john\n",
            "john\n",
            "{'name': 'john', 'age': 20, 'courses': ['math', 'compsci'], 'phone': '9550'}\n",
            "{'name': 'jane', 'age': 20, 'courses': ['math', 'compsci'], 'phone': '9550'}\n",
            "{'name': 'ram', 'age': 25, 'courses': ['math', 'compsci'], 'phone': '9550'}\n",
            "{'name': 'ram', 'age': 25, 'courses': ['math', 'compsci']}\n",
            "['math', 'compsci']\n"
          ],
          "name": "stdout"
        }
      ]
    },
    {
      "cell_type": "code",
      "metadata": {
        "id": "kSKUNcycE04O",
        "colab_type": "code",
        "colab": {
          "base_uri": "https://localhost:8080/",
          "height": 170
        },
        "outputId": "a1889c8f-60a2-4eb4-cd34-02465990ce72"
      },
      "source": [
        "person={'name':'raju','age':'40','height':5.10,'qualification':'Btech'}\n",
        "print(person)\n",
        "print(len(person))#to find the length of the dictionary we use len function\n",
        "print(person.items())#to get the alll the items present in the dictionary, a key and a value get like a pair seperated by comma\n",
        "print(person.keys())#to get all, the keys present in the dictionary\n",
        "print(person.values())#to get all the values present in the dictionary\n",
        "for key,value in person.items():#to loop through into the dictionary\n",
        "  print(key,value)\n"
      ],
      "execution_count": 22,
      "outputs": [
        {
          "output_type": "stream",
          "text": [
            "{'name': 'raju', 'age': '40', 'height': 5.1, 'qualification': 'Btech'}\n",
            "4\n",
            "dict_items([('name', 'raju'), ('age', '40'), ('height', 5.1), ('qualification', 'Btech')])\n",
            "dict_keys(['name', 'age', 'height', 'qualification'])\n",
            "dict_values(['raju', '40', 5.1, 'Btech'])\n",
            "name raju\n",
            "age 40\n",
            "height 5.1\n",
            "qualification Btech\n"
          ],
          "name": "stdout"
        }
      ]
    }
  ]
}