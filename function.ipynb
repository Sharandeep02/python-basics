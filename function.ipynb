{
  "nbformat": 4,
  "nbformat_minor": 0,
  "metadata": {
    "colab": {
      "name": "function.ipynb",
      "provenance": [],
      "authorship_tag": "ABX9TyPtmGRTfornNqkICFqRibdt",
      "include_colab_link": true
    },
    "kernelspec": {
      "name": "python3",
      "display_name": "Python 3"
    }
  },
  "cells": [
    {
      "cell_type": "markdown",
      "metadata": {
        "id": "view-in-github",
        "colab_type": "text"
      },
      "source": [
        "<a href=\"https://colab.research.google.com/github/Sharandeep02/python-basics/blob/master/function.ipynb\" target=\"_parent\"><img src=\"https://colab.research.google.com/assets/colab-badge.svg\" alt=\"Open In Colab\"/></a>"
      ]
    },
    {
      "cell_type": "code",
      "metadata": {
        "id": "4ttLhl8sNQI9",
        "colab_type": "code",
        "outputId": "46fa2d4d-4683-4347-f166-1ae801cf86c1",
        "colab": {
          "base_uri": "https://localhost:8080/",
          "height": 34
        }
      },
      "source": [
        "#we can create functions in python by using 'def' keyword\n",
        "def hello():\n",
        "  pass\n",
        "hello()\n",
        "#we use pass keyword inside the funcion if u dont want to  do anything inside init,\n",
        "def hello_function():\n",
        "  print('hello function')\n",
        "hello_function()"
      ],
      "execution_count": 0,
      "outputs": [
        {
          "output_type": "stream",
          "text": [
            "hello function\n"
          ],
          "name": "stdout"
        }
      ]
    },
    {
      "cell_type": "code",
      "metadata": {
        "id": "yk1nThkHGfm_",
        "colab_type": "code",
        "outputId": "46da9e89-f90d-40a5-ed88-1368115b74a8",
        "colab": {
          "base_uri": "https://localhost:8080/",
          "height": 34
        }
      },
      "source": [
        "#basic program for understanding how function works\n",
        "def hello():\n",
        "  return 'hello sharan'\n",
        "print(hello().upper())"
      ],
      "execution_count": 0,
      "outputs": [
        {
          "output_type": "stream",
          "text": [
            "HELLO SHARAN\n"
          ],
          "name": "stdout"
        }
      ]
    },
    {
      "cell_type": "code",
      "metadata": {
        "id": "EoxzeFzfHLq3",
        "colab_type": "code",
        "outputId": "101e3a76-3b81-442e-c6f7-a4c0615d8807",
        "colab": {
          "base_uri": "https://localhost:8080/",
          "height": 34
        }
      },
      "source": [
        "#basic code by passing 1arguments in function\n",
        "def hello(greeting):\n",
        "  return '{} sharan'.format(greeting)\n",
        "print(hello('HI'))\n"
      ],
      "execution_count": 0,
      "outputs": [
        {
          "output_type": "stream",
          "text": [
            "HI sharan\n"
          ],
          "name": "stdout"
        }
      ]
    },
    {
      "cell_type": "code",
      "metadata": {
        "id": "IzdWmLgmNfvU",
        "colab_type": "code",
        "outputId": "ec793609-ef25-4f93-be39-00ef46be7c67",
        "colab": {
          "base_uri": "https://localhost:8080/",
          "height": 51
        }
      },
      "source": [
        "#basic code by passing 2arguments in function\n",
        "def hello(greeting,name='you'):\n",
        "  return '{},{}'.format(greeting,name)\n",
        "print(hello('HI'))\n",
        "\n",
        "\n",
        "#\n",
        "def hello(greeting,name='you'):\n",
        "  return '{},{}'.format(greeting,name)\n",
        "print(hello('HI',name='sharan'))\n"
      ],
      "execution_count": 0,
      "outputs": [
        {
          "output_type": "stream",
          "text": [
            "HI,you\n",
            "HI,sharan\n"
          ],
          "name": "stdout"
        }
      ]
    },
    {
      "cell_type": "code",
      "metadata": {
        "id": "_BJdw655Rlrc",
        "colab_type": "code",
        "outputId": "147f2d24-af6f-4584-bc4e-af04ef63bfde",
        "colab": {
          "base_uri": "https://localhost:8080/",
          "height": 51
        }
      },
      "source": [
        "#another way of passing arguments\n",
        "def student_info(*args, **kwargs):\n",
        "  print(args)\n",
        "  print(kwargs)\n",
        "student_info('math','compsci',name='sharan',age=20)\n",
        "\n"
      ],
      "execution_count": 16,
      "outputs": [
        {
          "output_type": "stream",
          "text": [
            "('math', 'compsci')\n",
            "{'name': 'sharan', 'age': 20}\n"
          ],
          "name": "stdout"
        }
      ]
    },
    {
      "cell_type": "code",
      "metadata": {
        "id": "jVWLdQgiuzkD",
        "colab_type": "code",
        "colab": {
          "base_uri": "https://localhost:8080/",
          "height": 51
        },
        "outputId": "2d6ea4fa-2e94-4527-9835-0fc22b2ab82b"
      },
      "source": [
        "# example programme\n",
        "#number of days per month first value place holder for indexing purpose\n",
        "month_days=[0,31,28,31,30,31,30,31,31,30,31,30,31]\n",
        "\n",
        "\n",
        "\n",
        "def is_leap(year):\n",
        "  #retuen true for leap years,false for non-leap years\n",
        "\n",
        "  return year % 4 == 0 and (year % 100 != 0 or year % 400 ==0)\n",
        "\n",
        "def days_in_month(year,month):\n",
        "  #return number of days in that month in that year.\n",
        "  if not 1<= month <=12:\n",
        "    return 'invalis month'\n",
        "  if month == 2 and is_leap(year):\n",
        "    return 29\n",
        "  return month_days[month]\n",
        "print(is_leap(2017))\n",
        "print(days_in_month(2017,2))"
      ],
      "execution_count": 22,
      "outputs": [
        {
          "output_type": "stream",
          "text": [
            "False\n",
            "28\n"
          ],
          "name": "stdout"
        }
      ]
    },
    {
      "cell_type": "code",
      "metadata": {
        "id": "JGCu_aHYvIhN",
        "colab_type": "code",
        "colab": {}
      },
      "source": [
        ""
      ],
      "execution_count": 0,
      "outputs": []
    }
  ]
}