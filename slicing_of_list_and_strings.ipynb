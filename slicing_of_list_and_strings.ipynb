{
  "nbformat": 4,
  "nbformat_minor": 0,
  "metadata": {
    "colab": {
      "name": "slicing of list and strings.ipynb",
      "provenance": [],
      "authorship_tag": "ABX9TyP7unLfQ+oKHG6J0I1jxWD3",
      "include_colab_link": true
    },
    "kernelspec": {
      "name": "python3",
      "display_name": "Python 3"
    }
  },
  "cells": [
    {
      "cell_type": "markdown",
      "metadata": {
        "id": "view-in-github",
        "colab_type": "text"
      },
      "source": [
        "<a href=\"https://colab.research.google.com/github/Sharandeep02/python-basics/blob/master/slicing_of_list_and_strings.ipynb\" target=\"_parent\"><img src=\"https://colab.research.google.com/assets/colab-badge.svg\" alt=\"Open In Colab\"/></a>"
      ]
    },
    {
      "cell_type": "code",
      "metadata": {
        "id": "SgoO1N7GZ_9m",
        "colab_type": "code",
        "colab": {
          "base_uri": "https://localhost:8080/",
          "height": 136
        },
        "outputId": "bb19d250-c938-4600-9461-642f932c9f5c"
      },
      "source": [
        "#Different ways of slicing the given list\n",
        "s=[0,1,2,3,4,5,6,7,8,9]\n",
        "#  0 1 2 3 4 5 6 7 8 9\n",
        "#-10-9-8-7-6-5-4-3-2-1\n",
        "print(s[5])#accessing elements from positive index \n",
        "print(s[-2])#accessing elements from negative index\n",
        "print(s[0:4])\n",
        "print(s[:-6])\n",
        "print(s[2:-1:2])\n",
        "print(s[-1:2:-1])\n",
        "print(s[::-1])#to reverse a given list"
      ],
      "execution_count": 10,
      "outputs": [
        {
          "output_type": "stream",
          "text": [
            "5\n",
            "8\n",
            "[0, 1, 2, 3]\n",
            "[0, 1, 2, 3]\n",
            "[2, 4, 6, 8]\n",
            "[9, 8, 7, 6, 5, 4, 3]\n",
            "[9, 8, 7, 6, 5, 4, 3, 2, 1, 0]\n"
          ],
          "name": "stdout"
        }
      ]
    },
    {
      "cell_type": "code",
      "metadata": {
        "id": "IxUb5OBXh7f0",
        "colab_type": "code",
        "colab": {
          "base_uri": "https://localhost:8080/",
          "height": 85
        },
        "outputId": "3a4b146a-2cbc-4908-e3cc-f8b2ff5dbde0"
      },
      "source": [
        "#slicing strings\n",
        "d='sharan deep'\n",
        "print(d[0:6])\n",
        "print(d[7:])\n",
        "print(d[0:12:2])\n",
        "print(d[::-1])"
      ],
      "execution_count": 15,
      "outputs": [
        {
          "output_type": "stream",
          "text": [
            "sharan\n",
            "deep\n",
            "saa ep\n",
            "peed narahs\n"
          ],
          "name": "stdout"
        }
      ]
    }
  ]
}